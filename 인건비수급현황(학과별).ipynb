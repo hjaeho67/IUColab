{
  "nbformat": 4,
  "nbformat_minor": 0,
  "metadata": {
    "colab": {
      "provenance": [],
      "name": "인건비수급현황(학과별).ipynb",
      "authorship_tag": "ABX9TyOsUJiolCRArN8ZoTr5lujh",
      "include_colab_link": true
    },
    "kernelspec": {
      "name": "python3",
      "display_name": "Python 3"
    },
    "language_info": {
      "name": "python"
    }
  },
  "cells": [
    {
      "cell_type": "markdown",
      "metadata": {
        "id": "view-in-github",
        "colab_type": "text"
      },
      "source": [
        "<a href=\"https://colab.research.google.com/github/hjaeho67/IUColab/blob/main/%EC%9D%B8%EA%B1%B4%EB%B9%84%EC%88%98%EA%B8%89%ED%98%84%ED%99%A9(%ED%95%99%EA%B3%BC%EB%B3%84).ipynb\" target=\"_parent\"><img src=\"https://colab.research.google.com/assets/colab-badge.svg\" alt=\"Open In Colab\"/></a>"
      ]
    },
    {
      "cell_type": "markdown",
      "source": [
        "#인건비수급현황(학과별).ipynb의 전처리 pickle 사용하여 data현황 파악\n",
        "edf = '학과별edf.pkl'"
      ],
      "metadata": {
        "id": "I1QrM_U3SY7q"
      }
    },
    {
      "cell_type": "code",
      "source": [
        "import pandas as pd\n",
        "import plotly.express as px\n",
        "import numpy as np\n",
        "\n",
        "import warnings\n",
        "warnings.filterwarnings('ignore')"
      ],
      "metadata": {
        "id": "fU__9fL0SncA"
      },
      "execution_count": 1,
      "outputs": []
    },
    {
      "cell_type": "code",
      "source": [
        "pd.set_option('display.max_row', 500)\n",
        "pd.set_option('display.max_columns', 100)\n",
        "pd.set_option('display.width',200)\n",
        "pd.options.display.float_format = '{:,.0f}'.format"
      ],
      "metadata": {
        "id": "s9DTs9TxSn9z"
      },
      "execution_count": 2,
      "outputs": []
    },
    {
      "cell_type": "code",
      "source": [
        "from google.colab import drive\n",
        "drive.mount('/content/drive')"
      ],
      "metadata": {
        "id": "OCCea99sSnMY",
        "outputId": "4ede3086-590f-42ef-c071-3a06d8da350c",
        "colab": {
          "base_uri": "https://localhost:8080/"
        }
      },
      "execution_count": 3,
      "outputs": [
        {
          "output_type": "stream",
          "name": "stdout",
          "text": [
            "Mounted at /content/drive\n"
          ]
        }
      ]
    }
  ]
}